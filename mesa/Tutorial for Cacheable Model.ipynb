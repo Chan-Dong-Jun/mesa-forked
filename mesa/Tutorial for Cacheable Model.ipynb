{
 "cells": [
  {
   "metadata": {},
   "cell_type": "code",
   "outputs": [],
   "execution_count": null,
   "source": [
    "from IPython.core.interactiveshell import InteractiveShell\n",
    "InteractiveShell.ast_node_interactivity = \"all\""
   ],
   "id": "7be100ae7b521c80"
  },
  {
   "metadata": {},
   "cell_type": "markdown",
   "source": "### Imports",
   "id": "78bdaf2eba6ca166"
  },
  {
   "metadata": {},
   "cell_type": "code",
   "outputs": [],
   "execution_count": null,
   "source": [
    "# import necessary libraries\n",
    "import mesa\n",
    "import seaborn as sns\n",
    "import pandas as pd\n",
    "import shutil\n",
    "\n",
    "# import cacheable model wrapper\n",
    "from cacheable_model import CacheableModel"
   ],
   "id": "f294130a17cfc300"
  },
  {
   "metadata": {},
   "cell_type": "markdown",
   "source": [
    "### Output directory \n",
    "\"output_dir\" is the path which the cached data is stored. The directory is included in the .gitignore file. "
   ],
   "id": "c176b50b1bff24d9"
  },
  {
   "metadata": {},
   "cell_type": "code",
   "outputs": [],
   "execution_count": null,
   "source": [
    "directory = \"output_dir\"\n",
    "\n",
    "def delete_directory(directory_path):\n",
    "    shutil.rmtree(directory_path)\n",
    "    print(f\"Directory {directory_path} and its contents have been deleted.\")\n",
    "\n",
    "try:\n",
    "    delete_directory(directory)\n",
    "except:\n",
    "    pass"
   ],
   "id": "3e250dce3f3082cf"
  },
  {
   "metadata": {},
   "cell_type": "markdown",
   "source": [
    "### Base Model\n",
    "Define the Boltzmann Wealth Model. I chose to reimplement it here so that I can modify the attributes and experiment with the results more easily. The code is taken from the tutorial."
   ],
   "id": "45f9ad948978e0b7"
  },
  {
   "metadata": {},
   "cell_type": "code",
   "outputs": [],
   "execution_count": null,
   "source": [
    "def compute_gini(model):\n",
    "    agent_wealths = [agent.wealth for agent in model.schedule.agents]\n",
    "    x = sorted(agent_wealths)\n",
    "    N = model.num_agents\n",
    "    B = sum(xi * (N - i) for i, xi in enumerate(x)) / (N * sum(x))\n",
    "    return 1 + (1 / N) - 2 * B\n",
    "\n",
    "\n",
    "class MoneyAgent(mesa.Agent):\n",
    "    \"\"\"An agent with fixed initial wealth.\"\"\"\n",
    "\n",
    "    def __init__(self, unique_id, model):\n",
    "        super().__init__(unique_id, model)\n",
    "        self.wealth = 1\n",
    "\n",
    "    def move(self):\n",
    "        possible_steps = self.model.grid.get_neighborhood(\n",
    "            self.pos, moore=True, include_center=False\n",
    "        )\n",
    "        new_position = self.random.choice(possible_steps)\n",
    "        self.model.grid.move_agent(self, new_position)\n",
    "\n",
    "    def give_money(self):\n",
    "        cellmates = self.model.grid.get_cell_list_contents([self.pos])\n",
    "        cellmates.pop(\n",
    "            cellmates.index(self)\n",
    "        )  # Ensure agent is not giving money to itself\n",
    "        if len(cellmates) > 1:\n",
    "            other = self.random.choice(cellmates)\n",
    "            other.wealth += 1\n",
    "            self.wealth -= 1\n",
    "            if other == self:\n",
    "                print(\"I JUST GAVE MONEY TO MYSELF HEHEHE!\")\n",
    "\n",
    "    def step(self):\n",
    "        self.move()\n",
    "        if self.wealth > 0:\n",
    "            self.give_money()\n",
    "\n",
    "\n",
    "class MoneyModel(mesa.Model):\n",
    "    \"\"\"A model with some number of agents.\"\"\"\n",
    "\n",
    "    def __init__(self, N, width, height):\n",
    "        super().__init__()\n",
    "        self.num_agents = N\n",
    "        self.grid = mesa.space.MultiGrid(width, height, True)\n",
    "        self.schedule = mesa.time.RandomActivation(self)\n",
    "\n",
    "        # Create agents\n",
    "        for i in range(self.num_agents):\n",
    "            a = MoneyAgent(i, self)\n",
    "            self.schedule.add(a)\n",
    "            # Add the agent to a random grid cell\n",
    "            x = self.random.randrange(self.grid.width)\n",
    "            y = self.random.randrange(self.grid.height)\n",
    "            self.grid.place_agent(a, (x, y))\n",
    "\n",
    "        self.datacollector = mesa.DataCollector(\n",
    "            model_reporters={\"Gini\": compute_gini}, agent_reporters={\"Wealth\": \"wealth\"}\n",
    "        )\n",
    "\n",
    "    def step(self):\n",
    "        self.datacollector.collect(self)\n",
    "        self.schedule.step()"
   ],
   "id": "84b0fdcb43e92a22"
  },
  {
   "metadata": {},
   "cell_type": "markdown",
   "source": "### Instantiate the base model and cacheable model",
   "id": "bbcf635d1e93998e"
  },
  {
   "metadata": {},
   "cell_type": "code",
   "outputs": [],
   "execution_count": null,
   "source": "model = MoneyModel(100, 10, 10)",
   "id": "862ae797b2cf426b"
  },
  {
   "metadata": {},
   "cell_type": "code",
   "outputs": [],
   "execution_count": null,
   "source": [
    "number_of_steps = 1000\n",
    "def condition_function(model_vars): # condition to cache the results specifically\n",
    "        return model_vars.get('Gini', 0)[-1] > 0.7\n",
    "cacheable_model = CacheableModel(model, directory, number_of_steps, 100, condition_function=condition_function)"
   ],
   "id": "cff4cfc251f6d988"
  },
  {
   "metadata": {},
   "cell_type": "markdown",
   "source": "### Run cacheable model and read cached file",
   "id": "10a1933a4876f2aa"
  },
  {
   "metadata": {},
   "cell_type": "code",
   "outputs": [],
   "execution_count": null,
   "source": [
    "for i in range(number_of_steps):\n",
    "    cacheable_model.model.step()\n",
    "    cacheable_model.cache()"
   ],
   "id": "14402967eccad140"
  },
  {
   "metadata": {},
   "cell_type": "code",
   "outputs": [],
   "execution_count": null,
   "source": [
    "model_df, agent_df = cacheable_model.combine_dataframes()\n",
    "model_df \n",
    "agent_df"
   ],
   "id": "f2fa5f3f5f8d5b9e"
  },
  {
   "metadata": {},
   "cell_type": "markdown",
   "source": [
    "### Read the critical results dataframe. \n",
    "In this simulation, the condition to cache is when gini coefficient > 0.7."
   ],
   "id": "1c7a5ec8a074200e"
  },
  {
   "metadata": {},
   "cell_type": "code",
   "outputs": [],
   "execution_count": null,
   "source": [
    "df = pd.read_parquet('output_dir/special_results.parquet', engine='pyarrow')\n",
    "df.set_index(\"Step\")\n"
   ],
   "id": "9867d216ff9c7cda"
  },
  {
   "metadata": {},
   "cell_type": "code",
   "outputs": [],
   "execution_count": null,
   "source": "",
   "id": "17a245234cd6893"
  }
 ],
 "metadata": {
  "kernelspec": {
   "display_name": "Python 3 (ipykernel)",
   "language": "python",
   "name": "python3"
  },
  "language_info": {
   "codemirror_mode": {
    "name": "ipython",
    "version": 3
   },
   "file_extension": ".py",
   "mimetype": "text/x-python",
   "name": "python",
   "nbconvert_exporter": "python",
   "pygments_lexer": "ipython3",
   "version": "3.10.12"
  }
 },
 "nbformat": 4,
 "nbformat_minor": 5
}
