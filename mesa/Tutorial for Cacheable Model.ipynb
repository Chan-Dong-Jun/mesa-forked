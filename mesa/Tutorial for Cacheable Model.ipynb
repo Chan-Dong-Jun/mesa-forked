{
 "cells": [
  {
   "cell_type": "code",
   "execution_count": 1,
   "id": "7be100ae7b521c80",
   "metadata": {
    "ExecuteTime": {
     "end_time": "2024-08-18T14:55:28.552899Z",
     "start_time": "2024-08-18T14:55:28.549539Z"
    }
   },
   "outputs": [],
   "source": [
    "from IPython.core.interactiveshell import InteractiveShell\n",
    "InteractiveShell.ast_node_interactivity = \"all\""
   ]
  },
  {
   "cell_type": "markdown",
   "id": "78bdaf2eba6ca166",
   "metadata": {},
   "source": [
    "### Imports"
   ]
  },
  {
   "cell_type": "code",
   "execution_count": 2,
   "id": "f294130a17cfc300",
   "metadata": {
    "ExecuteTime": {
     "end_time": "2024-08-18T14:55:28.560927Z",
     "start_time": "2024-08-18T14:55:28.552899Z"
    }
   },
   "outputs": [],
   "source": [
    "# import necessary libraries\n",
    "import mesa\n",
    "import seaborn as sns\n",
    "import pandas as pd\n",
    "import shutil\n",
    "\n",
    "# import cacheable model wrapper\n",
    "from mesa.cacheable_model import CacheableModel"
   ]
  },
  {
   "cell_type": "markdown",
   "id": "c176b50b1bff24d9",
   "metadata": {},
   "source": [
    "### Output directory \n",
    "\"output_dir\" is the path which the cached data is stored. The directory is included in the .gitignore file. "
   ]
  },
  {
   "cell_type": "code",
   "execution_count": 3,
   "id": "3e250dce3f3082cf",
   "metadata": {
    "ExecuteTime": {
     "end_time": "2024-08-18T14:55:28.569402Z",
     "start_time": "2024-08-18T14:55:28.560927Z"
    }
   },
   "outputs": [
    {
     "name": "stdout",
     "output_type": "stream",
     "text": [
      "Directory output_dir and its contents have been deleted.\n"
     ]
    }
   ],
   "source": [
    "directory = \"output_dir\"\n",
    "\n",
    "def delete_directory(directory_path):\n",
    "    shutil.rmtree(directory_path)\n",
    "    print(f\"Directory {directory_path} and its contents have been deleted.\")\n",
    "\n",
    "try:\n",
    "    delete_directory(directory)\n",
    "except:\n",
    "    pass"
   ]
  },
  {
   "cell_type": "markdown",
   "id": "45f9ad948978e0b7",
   "metadata": {},
   "source": [
    "### Base Model\n",
    "Define the Boltzmann Wealth Model. I chose to reimplement it here so that I can modify the attributes and experiment with the results more easily. The code is taken from the tutorial."
   ]
  },
  {
   "cell_type": "code",
   "execution_count": 4,
   "id": "84b0fdcb43e92a22",
   "metadata": {
    "ExecuteTime": {
     "end_time": "2024-08-18T14:55:28.579278Z",
     "start_time": "2024-08-18T14:55:28.570996Z"
    }
   },
   "outputs": [],
   "source": [
    "def compute_gini(model):\n",
    "    agent_wealths = [agent.wealth for agent in model.schedule.agents]\n",
    "    x = sorted(agent_wealths)\n",
    "    N = model.num_agents\n",
    "    B = sum(xi * (N - i) for i, xi in enumerate(x)) / (N * sum(x))\n",
    "    return 1 + (1 / N) - 2 * B\n",
    "\n",
    "\n",
    "class MoneyAgent(mesa.Agent):\n",
    "    \"\"\"An agent with fixed initial wealth.\"\"\"\n",
    "\n",
    "    def __init__(self, unique_id, model):\n",
    "        super().__init__(unique_id, model)\n",
    "        self.wealth = 1\n",
    "\n",
    "    def move(self):\n",
    "        possible_steps = self.model.grid.get_neighborhood(\n",
    "            self.pos, moore=True, include_center=False\n",
    "        )\n",
    "        new_position = self.random.choice(possible_steps)\n",
    "        self.model.grid.move_agent(self, new_position)\n",
    "\n",
    "    def give_money(self):\n",
    "        cellmates = self.model.grid.get_cell_list_contents([self.pos])\n",
    "        cellmates.pop(\n",
    "            cellmates.index(self)\n",
    "        )  # Ensure agent is not giving money to itself\n",
    "        if len(cellmates) > 1:\n",
    "            other = self.random.choice(cellmates)\n",
    "            other.wealth += 1\n",
    "            self.wealth -= 1\n",
    "            if other == self:\n",
    "                print(\"I JUST GAVE MONEY TO MYSELF HEHEHE!\")\n",
    "\n",
    "    def step(self):\n",
    "        self.move()\n",
    "        if self.wealth > 0:\n",
    "            self.give_money()\n",
    "\n",
    "\n",
    "class MoneyModel(mesa.Model):\n",
    "    \"\"\"A model with some number of agents.\"\"\"\n",
    "\n",
    "    def __init__(self, N, width, height):\n",
    "        super().__init__()\n",
    "        self.num_agents = N\n",
    "        self.grid = mesa.space.MultiGrid(width, height, True)\n",
    "        self.schedule = mesa.time.RandomActivation(self)\n",
    "\n",
    "        # Create agents\n",
    "        for i in range(self.num_agents):\n",
    "            a = MoneyAgent(i, self)\n",
    "            self.schedule.add(a)\n",
    "            # Add the agent to a random grid cell\n",
    "            x = self.random.randrange(self.grid.width)\n",
    "            y = self.random.randrange(self.grid.height)\n",
    "            self.grid.place_agent(a, (x, y))\n",
    "\n",
    "        self.datacollector = mesa.DataCollector(\n",
    "            model_reporters={\"Gini\": compute_gini}, agent_reporters={\"Wealth\": \"wealth\"}\n",
    "        )\n",
    "\n",
    "    def step(self):\n",
    "        self.datacollector.collect(self)\n",
    "        self.schedule.step()"
   ]
  },
  {
   "cell_type": "markdown",
   "id": "bbcf635d1e93998e",
   "metadata": {},
   "source": [
    "### Instantiate the base model and cacheable model"
   ]
  },
  {
   "cell_type": "code",
   "execution_count": 5,
   "id": "862ae797b2cf426b",
   "metadata": {
    "ExecuteTime": {
     "end_time": "2024-08-18T14:55:28.584166Z",
     "start_time": "2024-08-18T14:55:28.580449Z"
    }
   },
   "outputs": [],
   "source": [
    "model = MoneyModel(100, 10, 10)"
   ]
  },
  {
   "cell_type": "code",
   "execution_count": 6,
   "id": "60f0f4e6ee15119d",
   "metadata": {
    "ExecuteTime": {
     "end_time": "2024-08-18T14:55:28.590586Z",
     "start_time": "2024-08-18T14:55:28.584166Z"
    }
   },
   "outputs": [],
   "source": [
    "number_of_steps = 1000\n",
    "def condition_function(model_vars): # condition to cache the results specifically\n",
    "        return model_vars.get('Gini', 0)[-1] > 0.7\n",
    "cacheable_model = CacheableModel(model, directory, number_of_steps, 100, condition_function=condition_function)"
   ]
  },
  {
   "cell_type": "markdown",
   "id": "d6d01651b3762bae",
   "metadata": {},
   "source": [
    "### Run cacheable model and read cached file"
   ]
  },
  {
   "cell_type": "code",
   "execution_count": 7,
   "id": "57a22b5ff5d37f24",
   "metadata": {
    "ExecuteTime": {
     "end_time": "2024-08-18T14:55:31.532877Z",
     "start_time": "2024-08-18T14:55:28.590586Z"
    }
   },
   "outputs": [],
   "source": [
    "for i in range(number_of_steps):\n",
    "    cacheable_model.model.step()\n",
    "    cacheable_model.cache()\n",
    "    cacheable_model.get_grid_dataframe()"
   ]
  },
  {
   "cell_type": "code",
   "execution_count": 8,
   "id": "276e41d84d4fd795",
   "metadata": {},
   "outputs": [
    {
     "data": {
      "text/html": [
       "<div>\n",
       "<style scoped>\n",
       "    .dataframe tbody tr th:only-of-type {\n",
       "        vertical-align: middle;\n",
       "    }\n",
       "\n",
       "    .dataframe tbody tr th {\n",
       "        vertical-align: top;\n",
       "    }\n",
       "\n",
       "    .dataframe thead th {\n",
       "        text-align: right;\n",
       "    }\n",
       "</style>\n",
       "<table border=\"1\" class=\"dataframe\">\n",
       "  <thead>\n",
       "    <tr style=\"text-align: right;\">\n",
       "      <th></th>\n",
       "      <th>Gini</th>\n",
       "    </tr>\n",
       "  </thead>\n",
       "  <tbody>\n",
       "    <tr>\n",
       "      <th>0</th>\n",
       "      <td>0.0000</td>\n",
       "    </tr>\n",
       "    <tr>\n",
       "      <th>1</th>\n",
       "      <td>0.3846</td>\n",
       "    </tr>\n",
       "    <tr>\n",
       "      <th>2</th>\n",
       "      <td>0.4526</td>\n",
       "    </tr>\n",
       "    <tr>\n",
       "      <th>3</th>\n",
       "      <td>0.4966</td>\n",
       "    </tr>\n",
       "    <tr>\n",
       "      <th>4</th>\n",
       "      <td>0.5140</td>\n",
       "    </tr>\n",
       "    <tr>\n",
       "      <th>...</th>\n",
       "      <td>...</td>\n",
       "    </tr>\n",
       "    <tr>\n",
       "      <th>995</th>\n",
       "      <td>0.6368</td>\n",
       "    </tr>\n",
       "    <tr>\n",
       "      <th>996</th>\n",
       "      <td>0.6198</td>\n",
       "    </tr>\n",
       "    <tr>\n",
       "      <th>997</th>\n",
       "      <td>0.6444</td>\n",
       "    </tr>\n",
       "    <tr>\n",
       "      <th>998</th>\n",
       "      <td>0.6626</td>\n",
       "    </tr>\n",
       "    <tr>\n",
       "      <th>999</th>\n",
       "      <td>0.6826</td>\n",
       "    </tr>\n",
       "  </tbody>\n",
       "</table>\n",
       "<p>1000 rows × 1 columns</p>\n",
       "</div>"
      ],
      "text/plain": [
       "       Gini\n",
       "0    0.0000\n",
       "1    0.3846\n",
       "2    0.4526\n",
       "3    0.4966\n",
       "4    0.5140\n",
       "..      ...\n",
       "995  0.6368\n",
       "996  0.6198\n",
       "997  0.6444\n",
       "998  0.6626\n",
       "999  0.6826\n",
       "\n",
       "[1000 rows x 1 columns]"
      ]
     },
     "execution_count": 8,
     "metadata": {},
     "output_type": "execute_result"
    },
    {
     "data": {
      "text/html": [
       "<div>\n",
       "<style scoped>\n",
       "    .dataframe tbody tr th:only-of-type {\n",
       "        vertical-align: middle;\n",
       "    }\n",
       "\n",
       "    .dataframe tbody tr th {\n",
       "        vertical-align: top;\n",
       "    }\n",
       "\n",
       "    .dataframe thead th {\n",
       "        text-align: right;\n",
       "    }\n",
       "</style>\n",
       "<table border=\"1\" class=\"dataframe\">\n",
       "  <thead>\n",
       "    <tr style=\"text-align: right;\">\n",
       "      <th></th>\n",
       "      <th></th>\n",
       "      <th>Wealth</th>\n",
       "    </tr>\n",
       "    <tr>\n",
       "      <th>Step</th>\n",
       "      <th>AgentID</th>\n",
       "      <th></th>\n",
       "    </tr>\n",
       "  </thead>\n",
       "  <tbody>\n",
       "    <tr>\n",
       "      <th rowspan=\"5\" valign=\"top\">0</th>\n",
       "      <th>0</th>\n",
       "      <td>1</td>\n",
       "    </tr>\n",
       "    <tr>\n",
       "      <th>1</th>\n",
       "      <td>1</td>\n",
       "    </tr>\n",
       "    <tr>\n",
       "      <th>2</th>\n",
       "      <td>1</td>\n",
       "    </tr>\n",
       "    <tr>\n",
       "      <th>3</th>\n",
       "      <td>1</td>\n",
       "    </tr>\n",
       "    <tr>\n",
       "      <th>4</th>\n",
       "      <td>1</td>\n",
       "    </tr>\n",
       "    <tr>\n",
       "      <th>...</th>\n",
       "      <th>...</th>\n",
       "      <td>...</td>\n",
       "    </tr>\n",
       "    <tr>\n",
       "      <th rowspan=\"5\" valign=\"top\">999</th>\n",
       "      <th>95</th>\n",
       "      <td>2</td>\n",
       "    </tr>\n",
       "    <tr>\n",
       "      <th>96</th>\n",
       "      <td>2</td>\n",
       "    </tr>\n",
       "    <tr>\n",
       "      <th>97</th>\n",
       "      <td>0</td>\n",
       "    </tr>\n",
       "    <tr>\n",
       "      <th>98</th>\n",
       "      <td>0</td>\n",
       "    </tr>\n",
       "    <tr>\n",
       "      <th>99</th>\n",
       "      <td>0</td>\n",
       "    </tr>\n",
       "  </tbody>\n",
       "</table>\n",
       "<p>100000 rows × 1 columns</p>\n",
       "</div>"
      ],
      "text/plain": [
       "              Wealth\n",
       "Step AgentID        \n",
       "0    0             1\n",
       "     1             1\n",
       "     2             1\n",
       "     3             1\n",
       "     4             1\n",
       "...              ...\n",
       "999  95            2\n",
       "     96            2\n",
       "     97            0\n",
       "     98            0\n",
       "     99            0\n",
       "\n",
       "[100000 rows x 1 columns]"
      ]
     },
     "execution_count": 8,
     "metadata": {},
     "output_type": "execute_result"
    }
   ],
   "source": [
    "model_df, agent_df = cacheable_model.combine_dataframes()\n",
    "model_df \n",
    "agent_df"
   ]
  },
  {
   "cell_type": "markdown",
   "id": "2388144884bdbc3c",
   "metadata": {},
   "source": [
    "### Read the critical results dataframe. \n",
    "In this simulation, the condition to cache is when gini coefficient > 0.7."
   ]
  },
  {
   "cell_type": "code",
   "execution_count": 9,
   "id": "8253d44ce1aacd2e",
   "metadata": {},
   "outputs": [
    {
     "data": {
      "text/html": [
       "<div>\n",
       "<style scoped>\n",
       "    .dataframe tbody tr th:only-of-type {\n",
       "        vertical-align: middle;\n",
       "    }\n",
       "\n",
       "    .dataframe tbody tr th {\n",
       "        vertical-align: top;\n",
       "    }\n",
       "\n",
       "    .dataframe thead th {\n",
       "        text-align: right;\n",
       "    }\n",
       "</style>\n",
       "<table border=\"1\" class=\"dataframe\">\n",
       "  <thead>\n",
       "    <tr style=\"text-align: right;\">\n",
       "      <th></th>\n",
       "      <th>Gini</th>\n",
       "    </tr>\n",
       "    <tr>\n",
       "      <th>Step</th>\n",
       "      <th></th>\n",
       "    </tr>\n",
       "  </thead>\n",
       "  <tbody>\n",
       "    <tr>\n",
       "      <th>75</th>\n",
       "      <td>0.7028</td>\n",
       "    </tr>\n",
       "    <tr>\n",
       "      <th>109</th>\n",
       "      <td>0.7038</td>\n",
       "    </tr>\n",
       "    <tr>\n",
       "      <th>123</th>\n",
       "      <td>0.7250</td>\n",
       "    </tr>\n",
       "    <tr>\n",
       "      <th>124</th>\n",
       "      <td>0.7284</td>\n",
       "    </tr>\n",
       "    <tr>\n",
       "      <th>125</th>\n",
       "      <td>0.7178</td>\n",
       "    </tr>\n",
       "    <tr>\n",
       "      <th>...</th>\n",
       "      <td>...</td>\n",
       "    </tr>\n",
       "    <tr>\n",
       "      <th>903</th>\n",
       "      <td>0.7112</td>\n",
       "    </tr>\n",
       "    <tr>\n",
       "      <th>904</th>\n",
       "      <td>0.7108</td>\n",
       "    </tr>\n",
       "    <tr>\n",
       "      <th>905</th>\n",
       "      <td>0.7100</td>\n",
       "    </tr>\n",
       "    <tr>\n",
       "      <th>906</th>\n",
       "      <td>0.7094</td>\n",
       "    </tr>\n",
       "    <tr>\n",
       "      <th>907</th>\n",
       "      <td>0.7082</td>\n",
       "    </tr>\n",
       "  </tbody>\n",
       "</table>\n",
       "<p>93 rows × 1 columns</p>\n",
       "</div>"
      ],
      "text/plain": [
       "        Gini\n",
       "Step        \n",
       "75    0.7028\n",
       "109   0.7038\n",
       "123   0.7250\n",
       "124   0.7284\n",
       "125   0.7178\n",
       "...      ...\n",
       "903   0.7112\n",
       "904   0.7108\n",
       "905   0.7100\n",
       "906   0.7094\n",
       "907   0.7082\n",
       "\n",
       "[93 rows x 1 columns]"
      ]
     },
     "execution_count": 9,
     "metadata": {},
     "output_type": "execute_result"
    }
   ],
   "source": [
    "# Replace 'your_file.parquet' with the path to your Parquet file\n",
    "df = pd.read_parquet('output_dir/special_results.parquet', engine='pyarrow')\n",
    "df.set_index(\"Step\")\n"
   ]
  },
  {
   "cell_type": "code",
   "execution_count": null,
   "id": "58e6491e3d977087",
   "metadata": {},
   "outputs": [],
   "source": []
  },
  {
   "cell_type": "markdown",
   "id": "e9860fe3ea2c4205",
   "metadata": {},
   "source": [
    "### Cache grid pos and cached grid visualisation"
   ]
  },
  {
   "cell_type": "code",
   "execution_count": 10,
   "id": "7dba88d348084998",
   "metadata": {},
   "outputs": [],
   "source": [
    "def agent_portrayal(agent):\n",
    "    size = 10\n",
    "    color = \"tab:red\"\n",
    "    if agent.wealth > 0:\n",
    "        size = 50\n",
    "        color = \"tab:blue\"\n",
    "    return {\"size\": size, \"color\": color}\n",
    "\n",
    "model_params = {\n",
    "    \"N\": {\n",
    "        \"type\": \"SliderInt\",\n",
    "        \"value\": 50,\n",
    "        \"label\": \"Number of agents:\",\n",
    "        \"min\": 10,\n",
    "        \"max\": 100,\n",
    "        \"step\": 1,\n",
    "    },\n",
    "    \"width\": 10,\n",
    "    \"height\": 10,\n",
    "}"
   ]
  },
  {
   "cell_type": "code",
   "execution_count": 11,
   "id": "988397181692936e",
   "metadata": {},
   "outputs": [],
   "source": [
    "from matplotlib.figure import Figure\n",
    "import solara\n",
    "\n",
    "def make_histogram(model):\n",
    "    # Note: you must initialize a figure using this method instead of\n",
    "    # plt.figure(), for thread safety purpose\n",
    "    fig = Figure()\n",
    "    ax = fig.subplots()\n",
    "    wealth_vals = [agent.wealth for agent in model.schedule.agents]\n",
    "    # Note: you have to use Matplotlib's OOP API instead of plt.hist\n",
    "    # because plt.hist is not thread-safe.\n",
    "    ax.hist(wealth_vals, bins=10)\n",
    "    solara.FigureMatplotlib(fig)"
   ]
  },
  {
   "cell_type": "code",
   "execution_count": 19,
   "id": "9d9808f42a49d7bb",
   "metadata": {},
   "outputs": [],
   "source": [
    "class TestModel(mesa.Model):\n",
    "    \"\"\"A model with some number of agents.\"\"\"\n",
    "\n",
    "    def __init__(self, N, width, height):\n",
    "        super().__init__()\n",
    "        # self.num_agents = N\n",
    "        # self.grid = mesa.space.MultiGrid(1,1, True)\n",
    "        # self.schedule = mesa.time.RandomActivation(self)\n",
    "\n",
    "        # Create agents\n",
    "        # for i in range(self.num_agents):\n",
    "            # a = MoneyAgent(i, self)\n",
    "            # self.schedule.add(a)\n",
    "            # Add the agent to a random grid cell\n",
    "            # x = self.random.randrange(self.grid.width)\n",
    "            # y = self.random.randrange(self.grid.height)\n",
    "            # self.grid.place_agent(a, (x, y))\n",
    "\n",
    "        # self.datacollector = mesa.DataCollector()\n",
    "\n",
    "    def step(self):\n",
    "        # self.datacollector.collect(self)\n",
    "        self._steps += 1"
   ]
  },
  {
   "cell_type": "code",
   "execution_count": 20,
   "id": "990989bda29e3525",
   "metadata": {},
   "outputs": [
    {
     "name": "stdout",
     "output_type": "stream",
     "text": [
      "output_dir/grid_data_001.parquet\n",
      "output_dir/grid_data_001.parquet\n"
     ]
    },
    {
     "data": {
      "application/vnd.jupyter.widget-view+json": {
       "model_id": "19438cdcc03b4cfcae8f45473367c07f",
       "version_major": 2,
       "version_minor": 0
      },
      "text/html": [
       "Cannot show widget. You probably want to rerun the code cell above (<i>Click in the code cell, and press Shift+Enter <kbd>⇧</kbd>+<kbd>↩</kbd></i>)."
      ],
      "text/plain": [
       "Cannot show ipywidgets in text"
      ]
     },
     "metadata": {},
     "output_type": "display_data"
    }
   ],
   "source": [
    "from mesa.visualization_caching.solara_viz import SolaraViz\n",
    "from mesa import Model\n",
    "from mesa_models.boltzmann_wealth_model.model import BoltzmannWealthModel\n",
    "page = SolaraViz(\n",
    "    TestModel,\n",
    "    model_params,\n",
    "    measures=[\"Gini\"],\n",
    "    name=\"Money Model\",\n",
    "    agent_portrayal=agent_portrayal,\n",
    ")\n",
    "# This is required to render the visualization in the Jupyter notebook\n",
    "page"
   ]
  },
  {
   "cell_type": "code",
   "execution_count": 14,
   "id": "1b235d5de9d9ccf8",
   "metadata": {},
   "outputs": [],
   "source": [
    "\n",
    "def _draw_grid(space, space_ax, agent_portrayal):\n",
    "    def portray(g):\n",
    "        x = []\n",
    "        y = []\n",
    "        s = []  # size\n",
    "        c = []  # color\n",
    "        for i in range(g.width):\n",
    "            for j in range(g.height):\n",
    "                content = g._grid[i][j]\n",
    "                if not content:\n",
    "                    continue\n",
    "                if not hasattr(content, \"__iter__\"):\n",
    "                    # Is a single grid\n",
    "                    content = [content]\n",
    "                for agent in content:\n",
    "                    data = agent_portrayal(agent)\n",
    "                    x.append(i)\n",
    "                    y.append(j)\n",
    "                    if \"size\" in data:\n",
    "                        s.append(data[\"size\"])\n",
    "                    if \"color\" in data:\n",
    "                        c.append(data[\"color\"])\n",
    "        out = {\"x\": x, \"y\": y}\n",
    "        # This is the default value for the marker size, which auto-scales\n",
    "        # according to the grid area.\n",
    "        out[\"s\"] = (180 / max(g.width, g.height)) ** 2\n",
    "        if len(s) > 0:\n",
    "            out[\"s\"] = s\n",
    "        if len(c) > 0:\n",
    "            out[\"c\"] = c\n",
    "        return out\n",
    "\n",
    "    space_ax.set_xlim(-1, space.width)\n",
    "    space_ax.set_ylim(-1, space.height)\n",
    "    space_ax.scatter(**portray(space))"
   ]
  },
  {
   "cell_type": "code",
   "execution_count": 15,
   "id": "4b0ab17b5be54916",
   "metadata": {},
   "outputs": [
    {
     "data": {
      "application/vnd.jupyter.widget-view+json": {
       "model_id": "81990973b058438eaa48a064d695588c",
       "version_major": 2,
       "version_minor": 0
      },
      "text/html": [
       "Cannot show widget. You probably want to rerun the code cell above (<i>Click in the code cell, and press Shift+Enter <kbd>⇧</kbd>+<kbd>↩</kbd></i>)."
      ],
      "text/plain": [
       "Cannot show ipywidgets in text"
      ]
     },
     "metadata": {},
     "output_type": "display_data"
    }
   ],
   "source": [
    "space = cacheable_model.reconstruct_grid(\"output_dir/grid_data_001.parquet\")\n",
    "space_fig = Figure()\n",
    "space_ax = space_fig.subplots()\n",
    "_draw_grid(space, space_ax, agent_portrayal)\n",
    "solara.FigureMatplotlib(space_fig, format=\"png\")"
   ]
  },
  {
   "cell_type": "code",
   "execution_count": 16,
   "id": "63f169b92541b14b",
   "metadata": {},
   "outputs": [
    {
     "name": "stdout",
     "output_type": "stream",
     "text": [
      "  3.0a1\u001b[m\n",
      "  3.0a1-cache-critical-results\u001b[m\n",
      "  3.0a1-cache-datacollector\u001b[m\n",
      "* \u001b[32m3.0a1-cache-grid-pos\u001b[m\n",
      "  main\u001b[m\n"
     ]
    }
   ],
   "source": [
    "!git branch"
   ]
  }
 ],
 "metadata": {
  "kernelspec": {
   "display_name": "Python 3 (ipykernel)",
   "language": "python",
   "name": "python3"
  },
  "language_info": {
   "codemirror_mode": {
    "name": "ipython",
    "version": 3
   },
   "file_extension": ".py",
   "mimetype": "text/x-python",
   "name": "python",
   "nbconvert_exporter": "python",
   "pygments_lexer": "ipython3",
   "version": "3.10.12"
  }
 },
 "nbformat": 4,
 "nbformat_minor": 5
}
